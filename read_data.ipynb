{
 "cells": [
  {
   "cell_type": "code",
   "execution_count": null,
   "id": "b1f22a4d",
   "metadata": {},
   "outputs": [],
   "source": [
    "import zarr\n",
    "import numpy as np\n",
    "import os\n",
    "\n",
    "data_dir = './data/0'\n",
    "\n"
   ]
  },
  {
   "cell_type": "code",
   "execution_count": 8,
   "id": "8e3a6a48",
   "metadata": {},
   "outputs": [
    {
     "name": "stdout",
     "output_type": "stream",
     "text": [
      "/\n",
      " └── cam_0\n",
      "     ├── data\n",
      "     │   ├── color (116, 240, 320, 3) uint8\n",
      "     │   ├── depth (116, 240, 320) uint16\n",
      "     │   ├── depth_colormap (116, 240, 320, 3) uint8\n",
      "     │   ├── pc_pcd (116, 76800, 6) float32\n",
      "     │   ├── pc_ply (116, 76800, 3) float32\n",
      "     │   ├── step_idx (116,) int32\n",
      "     │   └── timestamp (116,) float64\n",
      "     └── meta\n",
      "         ├── depth_scale (1,) float64\n",
      "         ├── intrinsics (3, 3) float64\n",
      "         └── serial_number (1,) |S32\n"
     ]
    }
   ],
   "source": [
    "\n",
    "data_arr = zarr.open(f'{data_dir}/data_buffer.zarr', mode='r')\n",
    "\n",
    "print(data_arr.tree())\n",
    "\n",
    "intrinsics = data_arr['cam_0/meta/intrinsics'][:]\n",
    "# print(intrinsics)"
   ]
  }
 ],
 "metadata": {
  "kernelspec": {
   "display_name": "pytorch",
   "language": "python",
   "name": "python3"
  },
  "language_info": {
   "codemirror_mode": {
    "name": "ipython",
    "version": 3
   },
   "file_extension": ".py",
   "mimetype": "text/x-python",
   "name": "python",
   "nbconvert_exporter": "python",
   "pygments_lexer": "ipython3",
   "version": "3.10.16"
  }
 },
 "nbformat": 4,
 "nbformat_minor": 5
}
