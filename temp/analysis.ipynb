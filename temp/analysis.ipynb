{
 "cells": [
  {
   "cell_type": "code",
   "execution_count": 1,
   "id": "8e8ea356",
   "metadata": {},
   "outputs": [],
   "source": [
    "import numpy as np\n",
    "import matplotlib.pyplot as plt\n",
    "import ffmpeg"
   ]
  },
  {
   "cell_type": "code",
   "execution_count": 4,
   "id": "70e8b867",
   "metadata": {},
   "outputs": [
    {
     "name": "stdout",
     "output_type": "stream",
     "text": [
      "Frame rate: 30.0 fps\n"
     ]
    }
   ],
   "source": [
    "import os\n",
    "\n",
    "video_path = os.path.join('./media', 'targetvideo_rgb.mp4')\n",
    "\n",
    "# Use ffmpeg to probe the video file and extract frame rate information\n",
    "probe = ffmpeg.probe(video_path)\n",
    "video_stream = next((stream for stream in probe['streams'] if stream['codec_type'] == 'video'), None)\n",
    "\n",
    "if video_stream:\n",
    "    frame_rate = eval(video_stream['r_frame_rate'])  # Convert frame rate string to a float\n",
    "    print(f\"Frame rate: {frame_rate} fps\")\n",
    "else:\n",
    "    print(\"No video stream found in the file.\")"
   ]
  },
  {
   "cell_type": "code",
   "execution_count": null,
   "id": "2c120369",
   "metadata": {},
   "outputs": [],
   "source": [
    "from datetime import datetime\n",
    "import os\n",
    "\n",
    "data_dir = './media'\n",
    "\n",
    "file_names = os.listdir(data_dir)\n",
    "file_names.sort(key=lambda x: int(x.split('.')[0]))\n",
    "\n",
    "for i in range(len(file_names)):\n",
    "    file_name = os.path.join(data_dir, file_names[i])\n",
    "    data_dict = np.load(file_name, allow_pickle=True)\n",
    "    timestamp = data_dict['timestamp']\n",
    "    readable_time = datetime.fromtimestamp(timestamp / 1000.0)\n",
    "    print('Timestamp:', readable_time)\n",
    "\n",
    "\n",
    "# print('File name:', file_names)\n",
    "\n",
    "\n",
    "# data_dict_0 = np.load(data_dir, allow_pickle=True)\n",
    "# frame_num = data_dict_0['frame_num']\n",
    "# timestamp = data_dict_0['timestamp']\n",
    "# color_img = data_dict_0['color_img']\n",
    "# depth_img = data_dict_0['depth_img']\n",
    "\n",
    "# readable_time = datetime.fromtimestamp(timestamp / 1000.0)\n",
    "# print('Readable timestamp:', readable_time)\n",
    "\n"
   ]
  }
 ],
 "metadata": {
  "kernelspec": {
   "display_name": "pytorch",
   "language": "python",
   "name": "python3"
  },
  "language_info": {
   "codemirror_mode": {
    "name": "ipython",
    "version": 3
   },
   "file_extension": ".py",
   "mimetype": "text/x-python",
   "name": "python",
   "nbconvert_exporter": "python",
   "pygments_lexer": "ipython3",
   "version": "3.10.16"
  }
 },
 "nbformat": 4,
 "nbformat_minor": 5
}
